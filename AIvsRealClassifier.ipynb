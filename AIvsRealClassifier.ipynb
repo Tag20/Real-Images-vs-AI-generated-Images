{
  "metadata": {
    "kernelspec": {
      "language": "python",
      "display_name": "Python 3",
      "name": "python3"
    },
    "language_info": {
      "name": "python",
      "version": "3.10.13",
      "mimetype": "text/x-python",
      "codemirror_mode": {
        "name": "ipython",
        "version": 3
      },
      "pygments_lexer": "ipython3",
      "nbconvert_exporter": "python",
      "file_extension": ".py"
    },
    "kaggle": {
      "accelerator": "gpu",
      "dataSources": [
        {
          "sourceId": 5256696,
          "sourceType": "datasetVersion",
          "datasetId": 3041726
        },
        {
          "sourceId": 7598969,
          "sourceType": "datasetVersion",
          "datasetId": 4423404
        }
      ],
      "dockerImageVersionId": 30665,
      "isInternetEnabled": true,
      "language": "python",
      "sourceType": "notebook",
      "isGpuEnabled": true
    },
    "colab": {
      "name": "AIvsRealClassifier",
      "provenance": [],
      "include_colab_link": true
    }
  },
  "nbformat_minor": 0,
  "nbformat": 4,
  "cells": [
    {
      "cell_type": "markdown",
      "metadata": {
        "id": "view-in-github",
        "colab_type": "text"
      },
      "source": [
        "<a href=\"https://colab.research.google.com/github/Tag20/Real-Images-vs-AI-generated-Images/blob/main/AIvsRealClassifier.ipynb\" target=\"_parent\"><img src=\"https://colab.research.google.com/assets/colab-badge.svg\" alt=\"Open In Colab\"/></a>"
      ]
    },
    {
      "source": [
        "\n",
        "# IMPORTANT: RUN THIS CELL IN ORDER TO IMPORT YOUR KAGGLE DATA SOURCES\n",
        "# TO THE CORRECT LOCATION (/kaggle/input) IN YOUR NOTEBOOK,\n",
        "# THEN FEEL FREE TO DELETE THIS CELL.\n",
        "# NOTE: THIS NOTEBOOK ENVIRONMENT DIFFERS FROM KAGGLE'S PYTHON\n",
        "# ENVIRONMENT SO THERE MAY BE MISSING LIBRARIES USED BY YOUR\n",
        "# NOTEBOOK.\n",
        "\n",
        "import os\n",
        "import sys\n",
        "from tempfile import NamedTemporaryFile\n",
        "from urllib.request import urlopen\n",
        "from urllib.parse import unquote, urlparse\n",
        "from urllib.error import HTTPError\n",
        "from zipfile import ZipFile\n",
        "import tarfile\n",
        "import shutil\n",
        "\n",
        "CHUNK_SIZE = 40960\n",
        "DATA_SOURCE_MAPPING = 'cifake-real-and-ai-generated-synthetic-images:https%3A%2F%2Fstorage.googleapis.com%2Fkaggle-data-sets%2F3041726%2F5256696%2Fbundle%2Farchive.zip%3FX-Goog-Algorithm%3DGOOG4-RSA-SHA256%26X-Goog-Credential%3Dgcp-kaggle-com%2540kaggle-161607.iam.gserviceaccount.com%252F20240326%252Fauto%252Fstorage%252Fgoog4_request%26X-Goog-Date%3D20240326T162025Z%26X-Goog-Expires%3D259200%26X-Goog-SignedHeaders%3Dhost%26X-Goog-Signature%3D678350b4788ce5458589ee17a617adc203439f25e018a6d677f9e40117605192ce6ef384f4b4ffe006e9f9d48caf705bd3fc50ea94d6ebc08265ed5a7ca289bd7d029b888c31a949a7ba084dd673543be95ce0ceb94534f17da5d9862fa0884c00209fba3aa5b851cccd07090ef87b073f03f37e82bc93e380f93145a2643cdd8726f6892708a0f48b3e7e9663d176fa1c6e961c9569de2b8502ac8f88a6769a98a1d815c270b7f17188e392fa2014407380ff0059c505d49488764c2f8a79933829a7a3a0f9864fb95cf61f57b220a9d63efdac21d86f337ba6ed474931b215d08850132d0591de6c3ce40c310f268ea20a4f7fa71affb7a1e066cd80288d10,ai-generated-images-vs-real-images:https%3A%2F%2Fstorage.googleapis.com%2Fkaggle-data-sets%2F4423404%2F7598969%2Fbundle%2Farchive.zip%3FX-Goog-Algorithm%3DGOOG4-RSA-SHA256%26X-Goog-Credential%3Dgcp-kaggle-com%2540kaggle-161607.iam.gserviceaccount.com%252F20240326%252Fauto%252Fstorage%252Fgoog4_request%26X-Goog-Date%3D20240326T162025Z%26X-Goog-Expires%3D259200%26X-Goog-SignedHeaders%3Dhost%26X-Goog-Signature%3D2c16879939dd54c1282557241b755fa719912fe2a5179d19b7bcefa2fce0c7eca53d74c060ce42b82ce5dea96361dffda4cfdd784955af98422816b44a6c4c42b4a1cc2a6e05603272c20c20f057fb0addd0d37947501f533020a044aaa5b79734902096fdc2d2741429ff3f45e0729b8b2eff5f80aea73030c1511f595d7fb95f4037fc3a24b7154b82b0943c3e050994df92966df1ad1a02dab607e8e501c7533d0a40080f2a36dcbd04a48ce6ed22ac1d03952c4e7e1ee736bb998e762d0599adc17981d08bb6e0fc0a0eefef4e12c48ea8b302a98996212ef657e8b63de2faa04c3e8bf37b26c3e3a11734bac57fd2b340c34f9a3ff0a19bb9dd60b78313'\n",
        "\n",
        "KAGGLE_INPUT_PATH='/kaggle/input'\n",
        "KAGGLE_WORKING_PATH='/kaggle/working'\n",
        "KAGGLE_SYMLINK='kaggle'\n",
        "\n",
        "!umount /kaggle/input/ 2> /dev/null\n",
        "shutil.rmtree('/kaggle/input', ignore_errors=True)\n",
        "os.makedirs(KAGGLE_INPUT_PATH, 0o777, exist_ok=True)\n",
        "os.makedirs(KAGGLE_WORKING_PATH, 0o777, exist_ok=True)\n",
        "\n",
        "try:\n",
        "  os.symlink(KAGGLE_INPUT_PATH, os.path.join(\"..\", 'input'), target_is_directory=True)\n",
        "except FileExistsError:\n",
        "  pass\n",
        "try:\n",
        "  os.symlink(KAGGLE_WORKING_PATH, os.path.join(\"..\", 'working'), target_is_directory=True)\n",
        "except FileExistsError:\n",
        "  pass\n",
        "\n",
        "for data_source_mapping in DATA_SOURCE_MAPPING.split(','):\n",
        "    directory, download_url_encoded = data_source_mapping.split(':')\n",
        "    download_url = unquote(download_url_encoded)\n",
        "    filename = urlparse(download_url).path\n",
        "    destination_path = os.path.join(KAGGLE_INPUT_PATH, directory)\n",
        "    try:\n",
        "        with urlopen(download_url) as fileres, NamedTemporaryFile() as tfile:\n",
        "            total_length = fileres.headers['content-length']\n",
        "            print(f'Downloading {directory}, {total_length} bytes compressed')\n",
        "            dl = 0\n",
        "            data = fileres.read(CHUNK_SIZE)\n",
        "            while len(data) > 0:\n",
        "                dl += len(data)\n",
        "                tfile.write(data)\n",
        "                done = int(50 * dl / int(total_length))\n",
        "                sys.stdout.write(f\"\\r[{'=' * done}{' ' * (50-done)}] {dl} bytes downloaded\")\n",
        "                sys.stdout.flush()\n",
        "                data = fileres.read(CHUNK_SIZE)\n",
        "            if filename.endswith('.zip'):\n",
        "              with ZipFile(tfile) as zfile:\n",
        "                zfile.extractall(destination_path)\n",
        "            else:\n",
        "              with tarfile.open(tfile.name) as tarfile:\n",
        "                tarfile.extractall(destination_path)\n",
        "            print(f'\\nDownloaded and uncompressed: {directory}')\n",
        "    except HTTPError as e:\n",
        "        print(f'Failed to load (likely expired) {download_url} to path {destination_path}')\n",
        "        continue\n",
        "    except OSError as e:\n",
        "        print(f'Failed to load {download_url} to path {destination_path}')\n",
        "        continue\n",
        "\n",
        "print('Data source import complete.')\n"
      ],
      "metadata": {
        "id": "81ZA9r_AkCDN",
        "outputId": "9bca3fe0-e361-4f83-a20e-240c898aba66",
        "colab": {
          "base_uri": "https://localhost:8080/"
        }
      },
      "cell_type": "code",
      "outputs": [
        {
          "output_type": "stream",
          "name": "stdout",
          "text": [
            "Downloading cifake-real-and-ai-generated-synthetic-images, 109625224 bytes compressed\n",
            "[==================================================] 109625224 bytes downloaded\n",
            "Downloaded and uncompressed: cifake-real-and-ai-generated-synthetic-images\n",
            "Downloading ai-generated-images-vs-real-images, 499048119 bytes compressed\n",
            "[==================================================] 499048119 bytes downloaded\n",
            "Downloaded and uncompressed: ai-generated-images-vs-real-images\n",
            "Data source import complete.\n"
          ]
        }
      ],
      "execution_count": 1
    },
    {
      "cell_type": "code",
      "source": [
        "import os\n",
        "import numpy as np\n",
        "import pandas as pd\n",
        "import cv2\n",
        "from sklearn.metrics import f1_score\n",
        "import tensorflow as tf\n",
        "from tensorflow.keras.layers import Dense, Activation,Dropout,Conv2D, MaxPooling2D,BatchNormalization, Flatten\n",
        "from tensorflow.keras.optimizers import Adam, Adamax\n",
        "from tensorflow.keras.utils import image_dataset_from_directory\n",
        "from tensorflow.keras import regularizers\n",
        "from tensorflow.keras.models import Model\n",
        "from tensorflow.keras import backend as K\n",
        "from keras.callbacks import ModelCheckpoint, EarlyStopping, ReduceLROnPlateau\n",
        "from tensorflow.keras.models import Sequential\n",
        "import matplotlib\n",
        "import matplotlib.pyplot as plt\n",
        "import seaborn as sns\n"
      ],
      "metadata": {
        "_uuid": "49a2a219-db52-4980-be4f-2e4f7bf91d71",
        "_cell_guid": "00bf2f5d-8ccb-4607-9f9e-de00cef170ad",
        "jupyter": {
          "outputs_hidden": false
        },
        "execution": {
          "iopub.status.busy": "2024-03-18T18:07:53.69412Z",
          "iopub.execute_input": "2024-03-18T18:07:53.694528Z",
          "iopub.status.idle": "2024-03-18T18:07:53.7021Z",
          "shell.execute_reply.started": "2024-03-18T18:07:53.694485Z",
          "shell.execute_reply": "2024-03-18T18:07:53.700981Z"
        },
        "trusted": true,
        "id": "C-Glf6ZBkCDQ"
      },
      "execution_count": 2,
      "outputs": []
    },
    {
      "cell_type": "code",
      "source": [
        "train_folder_path = '/kaggle/input/cifake-real-and-ai-generated-synthetic-images/'\n",
        "test_folder_path = '/kaggle/input/ai-generated-images-vs-real-images/'"
      ],
      "metadata": {
        "_uuid": "9c25ec1b-9f82-4bae-b380-bd21a567ad17",
        "_cell_guid": "4c16a9b3-4153-4ef6-ae18-557eadd3e340",
        "jupyter": {
          "outputs_hidden": false
        },
        "execution": {
          "iopub.status.busy": "2024-03-18T18:07:53.70369Z",
          "iopub.execute_input": "2024-03-18T18:07:53.704005Z",
          "iopub.status.idle": "2024-03-18T18:07:53.713488Z",
          "shell.execute_reply.started": "2024-03-18T18:07:53.70398Z",
          "shell.execute_reply": "2024-03-18T18:07:53.712543Z"
        },
        "trusted": true,
        "id": "5CDEC7gCkCDR"
      },
      "execution_count": 3,
      "outputs": []
    },
    {
      "cell_type": "code",
      "source": [
        "train_path = train_folder_path  +'train/'\n",
        "val_path = train_folder_path + 'test/'"
      ],
      "metadata": {
        "_uuid": "1112f93b-601a-4d6f-a9f3-4ae84a46776b",
        "_cell_guid": "5cef22f6-6c12-4cff-9f22-9f73afe71419",
        "jupyter": {
          "outputs_hidden": false
        },
        "execution": {
          "iopub.status.busy": "2024-03-18T18:07:53.715352Z",
          "iopub.execute_input": "2024-03-18T18:07:53.715696Z",
          "iopub.status.idle": "2024-03-18T18:07:53.724349Z",
          "shell.execute_reply.started": "2024-03-18T18:07:53.715663Z",
          "shell.execute_reply": "2024-03-18T18:07:53.723503Z"
        },
        "trusted": true,
        "id": "kjOonpkGkCDR"
      },
      "execution_count": 4,
      "outputs": []
    },
    {
      "cell_type": "code",
      "source": [
        "BATCH_SIZE = 32\n",
        "IMG_SIZE = (32, 32)"
      ],
      "metadata": {
        "_uuid": "5bf48ac6-d7bf-43ca-b719-067ea40703c5",
        "_cell_guid": "052614e4-5ad9-4289-9c28-6193634816a8",
        "jupyter": {
          "outputs_hidden": false
        },
        "execution": {
          "iopub.status.busy": "2024-03-18T18:07:53.725461Z",
          "iopub.execute_input": "2024-03-18T18:07:53.725814Z",
          "iopub.status.idle": "2024-03-18T18:07:53.733705Z",
          "shell.execute_reply.started": "2024-03-18T18:07:53.725779Z",
          "shell.execute_reply": "2024-03-18T18:07:53.732772Z"
        },
        "trusted": true,
        "id": "0-edTwGUkCDS"
      },
      "execution_count": 5,
      "outputs": []
    },
    {
      "cell_type": "code",
      "source": [
        "train_dataset = tf.keras.utils.image_dataset_from_directory(train_path,\n",
        "                                             shuffle=True,\n",
        "                                             seed = 123,\n",
        "                                             batch_size=BATCH_SIZE,\n",
        "                                             image_size=IMG_SIZE,\n",
        "                                             label_mode='binary')"
      ],
      "metadata": {
        "_uuid": "60b63ad6-e1a5-4850-b0ed-25076aab0786",
        "_cell_guid": "6134bbe2-cdb5-47f7-b781-c2192e45c1d9",
        "jupyter": {
          "outputs_hidden": false
        },
        "execution": {
          "iopub.status.busy": "2024-03-18T18:07:53.735844Z",
          "iopub.execute_input": "2024-03-18T18:07:53.736146Z",
          "iopub.status.idle": "2024-03-18T18:09:02.181518Z",
          "shell.execute_reply.started": "2024-03-18T18:07:53.736123Z",
          "shell.execute_reply": "2024-03-18T18:09:02.180681Z"
        },
        "trusted": true,
        "id": "a2NNTA_lkCDS",
        "outputId": "50f7091e-64af-4d3d-d493-e3c8f08eb4bd",
        "colab": {
          "base_uri": "https://localhost:8080/"
        }
      },
      "execution_count": 6,
      "outputs": [
        {
          "output_type": "stream",
          "name": "stdout",
          "text": [
            "Found 100000 files belonging to 2 classes.\n"
          ]
        }
      ]
    },
    {
      "cell_type": "code",
      "source": [
        "validation_dataset = tf.keras.utils.image_dataset_from_directory(val_path,\n",
        "                                                                 shuffle=True,\n",
        "                                                                 seed = 123,\n",
        "                                                                 batch_size=BATCH_SIZE,\n",
        "                                                                 image_size=IMG_SIZE,\n",
        "                                                                 label_mode='binary')"
      ],
      "metadata": {
        "_uuid": "9bac8f1b-d244-4cd9-9edf-ee4aeba3e9ab",
        "_cell_guid": "f9b9a5a1-5ddc-488b-84f0-c055c2acad02",
        "jupyter": {
          "outputs_hidden": false
        },
        "execution": {
          "iopub.status.busy": "2024-03-18T18:09:02.182622Z",
          "iopub.execute_input": "2024-03-18T18:09:02.182878Z",
          "iopub.status.idle": "2024-03-18T18:09:14.449819Z",
          "shell.execute_reply.started": "2024-03-18T18:09:02.182855Z",
          "shell.execute_reply": "2024-03-18T18:09:14.448991Z"
        },
        "trusted": true,
        "id": "0ZumzIXGkCDS",
        "outputId": "a02c0013-b53c-4f64-a5e4-1d65afe936b1",
        "colab": {
          "base_uri": "https://localhost:8080/"
        }
      },
      "execution_count": 7,
      "outputs": [
        {
          "output_type": "stream",
          "name": "stdout",
          "text": [
            "Found 20000 files belonging to 2 classes.\n"
          ]
        }
      ]
    },
    {
      "cell_type": "code",
      "source": [
        "class_names = train_dataset.class_names"
      ],
      "metadata": {
        "execution": {
          "iopub.status.busy": "2024-03-18T18:09:14.451076Z",
          "iopub.execute_input": "2024-03-18T18:09:14.451454Z",
          "iopub.status.idle": "2024-03-18T18:09:14.456267Z",
          "shell.execute_reply.started": "2024-03-18T18:09:14.451421Z",
          "shell.execute_reply": "2024-03-18T18:09:14.455231Z"
        },
        "trusted": true,
        "id": "p92SWd4akCDT"
      },
      "execution_count": 8,
      "outputs": []
    },
    {
      "cell_type": "code",
      "source": [
        "plt.figure(figsize=(10, 10))\n",
        "for images, labels in train_dataset.take(1):\n",
        "    for i in range(9):\n",
        "        ax = plt.subplot(3, 3, i + 1)\n",
        "        plt.imshow(images[i].numpy().astype(\"uint8\"))\n",
        "\n",
        "        # Access the binary label directly\n",
        "        label = labels[i].numpy()\n",
        "\n",
        "        # Display the label\n",
        "        plt.title(\"REAL\" if label == 1 else \"FAKE\")\n",
        "        plt.axis(\"off\")"
      ],
      "metadata": {
        "_uuid": "717d8ab7-ed41-4ad5-87ec-dcb2887a8892",
        "_cell_guid": "986d0aea-94c9-46ed-91fe-06c3d8a5a36b",
        "jupyter": {
          "outputs_hidden": false
        },
        "execution": {
          "iopub.status.busy": "2024-03-18T18:09:14.45756Z",
          "iopub.execute_input": "2024-03-18T18:09:14.457852Z",
          "iopub.status.idle": "2024-03-18T18:09:15.270251Z",
          "shell.execute_reply.started": "2024-03-18T18:09:14.457827Z",
          "shell.execute_reply": "2024-03-18T18:09:15.269334Z"
        },
        "trusted": true,
        "id": "gCsTUQGykCDT",
        "outputId": "8e2e9538-7971-4af1-a252-d7fa5e46767a",
        "colab": {
          "base_uri": "https://localhost:8080/",
          "height": 829
        }
      },
      "execution_count": 9,
      "outputs": [
        {
          "output_type": "display_data",
          "data": {
            "text/plain": [
              "<Figure size 1000x1000 with 9 Axes>"
            ],
            "image/png": "[encoded data removed]"
          },
          "metadata": {}
        }
      ]
    },
    {
      "cell_type": "code",
      "source": [
        "class_names = os.listdir(train_path)"
      ],
      "metadata": {
        "_uuid": "82e092a7-ec69-42c7-b882-acf4fa606f26",
        "_cell_guid": "639225bc-a20d-426f-98d0-76aec1630e6f",
        "jupyter": {
          "outputs_hidden": false
        },
        "execution": {
          "iopub.status.busy": "2024-03-18T18:09:15.271534Z",
          "iopub.execute_input": "2024-03-18T18:09:15.271921Z",
          "iopub.status.idle": "2024-03-18T18:09:15.276796Z",
          "shell.execute_reply.started": "2024-03-18T18:09:15.271883Z",
          "shell.execute_reply": "2024-03-18T18:09:15.275815Z"
        },
        "trusted": true,
        "id": "aFABMbaSkCDT"
      },
      "execution_count": 10,
      "outputs": []
    },
    {
      "cell_type": "code",
      "source": [
        "val_batches = tf.data.experimental.cardinality(validation_dataset)\n",
        "test_dataset = validation_dataset.take(val_batches // 5)\n",
        "validation_dataset = validation_dataset.skip(val_batches // 5)"
      ],
      "metadata": {
        "_uuid": "c9ec10d2-49b8-4768-8973-b0e6622a31eb",
        "_cell_guid": "f42fa3b3-5bca-45a1-9973-225eb3732a7f",
        "jupyter": {
          "outputs_hidden": false
        },
        "execution": {
          "iopub.status.busy": "2024-03-18T18:09:15.280526Z",
          "iopub.execute_input": "2024-03-18T18:09:15.280792Z",
          "iopub.status.idle": "2024-03-18T18:09:15.291144Z",
          "shell.execute_reply.started": "2024-03-18T18:09:15.280769Z",
          "shell.execute_reply": "2024-03-18T18:09:15.290156Z"
        },
        "trusted": true,
        "id": "t6fDxGRHkCDT"
      },
      "execution_count": 11,
      "outputs": []
    },
    {
      "cell_type": "code",
      "source": [
        "print('Number of validation batches: %d' % tf.data.experimental.cardinality(validation_dataset))\n",
        "print('Number of test batches: %d' % tf.data.experimental.cardinality(test_dataset))"
      ],
      "metadata": {
        "_uuid": "03218f0f-3abf-4271-9887-505e4e3c278a",
        "_cell_guid": "c6c2bd0d-2151-414e-ba2a-1df21831b257",
        "jupyter": {
          "outputs_hidden": false
        },
        "execution": {
          "iopub.status.busy": "2024-03-18T18:09:15.292267Z",
          "iopub.execute_input": "2024-03-18T18:09:15.292563Z",
          "iopub.status.idle": "2024-03-18T18:09:15.29864Z",
          "shell.execute_reply.started": "2024-03-18T18:09:15.292537Z",
          "shell.execute_reply": "2024-03-18T18:09:15.297767Z"
        },
        "trusted": true,
        "id": "KFHfdQi1kCDU",
        "outputId": "21f42023-146e-41ab-c4db-5dd453028cbc",
        "colab": {
          "base_uri": "https://localhost:8080/"
        }
      },
      "execution_count": 12,
      "outputs": [
        {
          "output_type": "stream",
          "name": "stdout",
          "text": [
            "Number of validation batches: 500\n",
            "Number of test batches: 125\n"
          ]
        }
      ]
    },
    {
      "cell_type": "code",
      "source": [
        "AUTOTUNE = tf.data.AUTOTUNE\n",
        "\n",
        "train_dataset = train_dataset.prefetch(buffer_size=AUTOTUNE)\n",
        "validation_dataset = validation_dataset.prefetch(buffer_size=AUTOTUNE)\n",
        "test_dataset = test_dataset.prefetch(buffer_size=AUTOTUNE)"
      ],
      "metadata": {
        "_uuid": "773d1870-1b7a-40e3-b5b3-e92a366d8914",
        "_cell_guid": "7015a567-6e10-4c07-b44f-06651a88ccab",
        "jupyter": {
          "outputs_hidden": false
        },
        "execution": {
          "iopub.status.busy": "2024-03-18T18:09:15.299819Z",
          "iopub.execute_input": "2024-03-18T18:09:15.300155Z",
          "iopub.status.idle": "2024-03-18T18:09:15.312718Z",
          "shell.execute_reply.started": "2024-03-18T18:09:15.300123Z",
          "shell.execute_reply": "2024-03-18T18:09:15.311744Z"
        },
        "trusted": true,
        "id": "jzi5ZJNKkCDU"
      },
      "execution_count": 13,
      "outputs": []
    },
    {
      "cell_type": "code",
      "source": [
        "def F1_score(y_true, y_pred): #taken from old keras source code\n",
        "    true_positives = K.sum(K.round(K.clip(y_true * y_pred, 0, 1)))\n",
        "    possible_positives = K.sum(K.round(K.clip(y_true, 0, 1)))\n",
        "    predicted_positives = K.sum(K.round(K.clip(y_pred, 0, 1)))\n",
        "    precision = true_positives / (predicted_positives + K.epsilon())\n",
        "    recall = true_positives / (possible_positives + K.epsilon())\n",
        "    f1_val = 2*(precision*recall)/(precision+recall+K.epsilon())\n",
        "    return f1_val"
      ],
      "metadata": {
        "_uuid": "819f1669-71a7-4c52-b759-d4bcef0088a4",
        "_cell_guid": "094af59c-ad30-4e9b-b7af-94b45cbbef28",
        "jupyter": {
          "outputs_hidden": false
        },
        "execution": {
          "iopub.status.busy": "2024-03-18T18:09:15.313882Z",
          "iopub.execute_input": "2024-03-18T18:09:15.314141Z",
          "iopub.status.idle": "2024-03-18T18:09:15.322325Z",
          "shell.execute_reply.started": "2024-03-18T18:09:15.314118Z",
          "shell.execute_reply": "2024-03-18T18:09:15.321547Z"
        },
        "trusted": true,
        "id": "4X-aSjI-kCDU"
      },
      "execution_count": 14,
      "outputs": []
    },
    {
      "cell_type": "code",
      "source": [
        "\n",
        "layers = []\n",
        "layers.append(tf.keras.layers.Rescaling(1./255)) # Normalise pixel values\n",
        "# First Convolutional Layer\n",
        "\n",
        "layers.append(tf.keras.layers.Conv2D(32, 3, activation='relu'))\n",
        "layers.append(tf.keras.layers.MaxPooling2D())\n",
        "layers.append(tf.keras.layers.Dropout(0.25))\n",
        "\n",
        "# Second Convolutional Layer\n",
        "layers.append(tf.keras.layers.Conv2D(64, 3, activation='relu'))\n",
        "layers.append(tf.keras.layers.MaxPooling2D())\n",
        "layers.append(tf.keras.layers.Dropout(0.25))\n",
        "\n",
        "# Third Convolutional Layer\n",
        "layers.append(tf.keras.layers.Conv2D(128, 3, activation='relu'))\n",
        "layers.append(tf.keras.layers.MaxPooling2D())\n",
        "layers.append(tf.keras.layers.Dropout(0.25))\n",
        "\n",
        "layers.append(tf.keras.layers.Flatten())\n",
        "\n",
        "# ANN\n",
        "layers.append(tf.keras.layers.Dense(64, activation='relu'))\n",
        "layers.append(Dropout(rate=.4, seed=123))\n",
        "# layers.append(tf.keras.layers.Dense(32, activation ='relu'))\n",
        "layers.append(tf.keras.layers.Dense(1, activation='sigmoid'))\n",
        "\n",
        "#Compile model\n",
        "model = tf.keras.Sequential(layers)\n",
        "model.compile(\n",
        "  optimizer='adam',\n",
        "  loss=tf.keras.losses.BinaryCrossentropy(),\n",
        "  metrics=['accuracy', tf.keras.metrics.Precision(), tf.keras.metrics.Recall()])\n",
        "\n",
        "# Build the model so we can see a summary\n",
        "model.build(input_shape=(None, 32, 32, 3))\n"
      ],
      "metadata": {
        "execution": {
          "iopub.status.busy": "2024-03-18T18:09:15.323351Z",
          "iopub.execute_input": "2024-03-18T18:09:15.323692Z",
          "iopub.status.idle": "2024-03-18T18:09:15.395978Z",
          "shell.execute_reply.started": "2024-03-18T18:09:15.32366Z",
          "shell.execute_reply": "2024-03-18T18:09:15.395066Z"
        },
        "trusted": true,
        "id": "d3DRPwlZkCDU"
      },
      "execution_count": 15,
      "outputs": []
    },
    {
      "cell_type": "code",
      "source": [
        "# img_shape=(32, 32, 3)\n",
        "# base_model=tf.keras.applications.EfficientNetV2B0(include_top=False, weights=\"imagenet\",input_shape=img_shape, pooling='max')\n",
        "# base_model.trainable=False\n",
        "# x=base_model.output\n",
        "# x=BatchNormalization(axis=-1, momentum=0.99, epsilon=0.001 )(x)\n",
        "# x = Dense(256, kernel_regularizer = regularizers.l2(l2 = 0.016),activity_regularizer=regularizers.l1(0.006),\n",
        "#                 bias_regularizer=regularizers.l1(0.006) ,activation='relu')(x)\n",
        "# x=Dropout(rate=.4, seed=123)(x)\n",
        "# output=Dense(2, activation='softmax')(x)\n",
        "# model=Model(inputs=base_model.input, outputs=output)\n",
        "# model.compile(Adamax(learning_rate=.001), loss='categorical_crossentropy', metrics=['accuracy', F1_score])"
      ],
      "metadata": {
        "_uuid": "72db45f9-9ccc-4070-9d4f-c7841ef834d8",
        "_cell_guid": "3fbe621c-fd34-4266-95e9-27d8bf78385f",
        "jupyter": {
          "outputs_hidden": false
        },
        "execution": {
          "iopub.status.busy": "2024-03-18T18:09:15.397319Z",
          "iopub.execute_input": "2024-03-18T18:09:15.397974Z",
          "iopub.status.idle": "2024-03-18T18:09:15.402333Z",
          "shell.execute_reply.started": "2024-03-18T18:09:15.397939Z",
          "shell.execute_reply": "2024-03-18T18:09:15.401279Z"
        },
        "trusted": true,
        "id": "7oGul8o4kCDU"
      },
      "execution_count": 16,
      "outputs": []
    },
    {
      "cell_type": "code",
      "source": [
        "model.summary()"
      ],
      "metadata": {
        "_uuid": "4760b0b3-feb9-4228-921f-765cd96ac659",
        "_cell_guid": "7fded232-0bbe-4522-9fb5-0ed0d200675a",
        "jupyter": {
          "outputs_hidden": false
        },
        "execution": {
          "iopub.status.busy": "2024-03-18T18:09:15.403618Z",
          "iopub.execute_input": "2024-03-18T18:09:15.404013Z",
          "iopub.status.idle": "2024-03-18T18:09:15.441262Z",
          "shell.execute_reply.started": "2024-03-18T18:09:15.40398Z",
          "shell.execute_reply": "2024-03-18T18:09:15.440401Z"
        },
        "trusted": true,
        "id": "ptT44EaKkCDU",
        "outputId": "4fbc5324-7e49-4ce0-b12a-40038a01eaaa",
        "colab": {
          "base_uri": "https://localhost:8080/"
        }
      },
      "execution_count": 17,
      "outputs": [
        {
          "output_type": "stream",
          "name": "stdout",
          "text": [
            "Model: \"sequential\"\n",
            "_________________________________________________________________\n",
            " Layer (type)                Output Shape              Param #   \n",
            "=================================================================\n",
            " rescaling (Rescaling)       (None, 32, 32, 3)         0         \n",
            "                                                                 \n",
            " conv2d (Conv2D)             (None, 30, 30, 32)        896       \n",
            "                                                                 \n",
            " max_pooling2d (MaxPooling2  (None, 15, 15, 32)        0         \n",
            " D)                                                              \n",
            "                                                                 \n",
            " dropout (Dropout)           (None, 15, 15, 32)        0         \n",
            "                                                                 \n",
            " conv2d_1 (Conv2D)           (None, 13, 13, 64)        18496     \n",
            "                                                                 \n",
            " max_pooling2d_1 (MaxPoolin  (None, 6, 6, 64)          0         \n",
            " g2D)                                                            \n",
            "                                                                 \n",
            " dropout_1 (Dropout)         (None, 6, 6, 64)          0         \n",
            "                                                                 \n",
            " conv2d_2 (Conv2D)           (None, 4, 4, 128)         73856     \n",
            "                                                                 \n",
            " max_pooling2d_2 (MaxPoolin  (None, 2, 2, 128)         0         \n",
            " g2D)                                                            \n",
            "                                                                 \n",
            " dropout_2 (Dropout)         (None, 2, 2, 128)         0         \n",
            "                                                                 \n",
            " flatten (Flatten)           (None, 512)               0         \n",
            "                                                                 \n",
            " dense (Dense)               (None, 64)                32832     \n",
            "                                                                 \n",
            " dropout_3 (Dropout)         (None, 64)                0         \n",
            "                                                                 \n",
            " dense_1 (Dense)             (None, 1)                 65        \n",
            "                                                                 \n",
            "=================================================================\n",
            "Total params: 126145 (492.75 KB)\n",
            "Trainable params: 126145 (492.75 KB)\n",
            "Non-trainable params: 0 (0.00 Byte)\n",
            "_________________________________________________________________\n"
          ]
        }
      ]
    },
    {
      "cell_type": "code",
      "source": [
        "es = EarlyStopping(\n",
        "    monitor='val_accuracy',\n",
        "    verbose=1, patience=3, mode='auto'\n",
        ")\n",
        "# mc = ModelCheckpoint(\n",
        "#     filepath='/content',\n",
        "#     monitor='val_accuracy',\n",
        "#     verbose=1, save_best_only=True\n",
        "# )\n",
        "lr = ReduceLROnPlateau(\n",
        "    monitor='val_accuracy',\n",
        "    verbose=1, patience=2, min_lr=0.001\n",
        ")"
      ],
      "metadata": {
        "_uuid": "c5dda6c9-e650-453b-8c88-a8b3daef0b71",
        "_cell_guid": "741da52b-06f3-4d34-870c-73771af2a8d3",
        "jupyter": {
          "outputs_hidden": false
        },
        "execution": {
          "iopub.status.busy": "2024-03-18T18:09:15.442231Z",
          "iopub.execute_input": "2024-03-18T18:09:15.44249Z",
          "iopub.status.idle": "2024-03-18T18:09:15.447028Z",
          "shell.execute_reply.started": "2024-03-18T18:09:15.442467Z",
          "shell.execute_reply": "2024-03-18T18:09:15.446184Z"
        },
        "trusted": true,
        "id": "Xk1wZiE8kCDU"
      },
      "execution_count": 18,
      "outputs": []
    },
    {
      "cell_type": "code",
      "source": [
        "model.fit(train_dataset,\n",
        "                  epochs=10,\n",
        "                  callbacks=[es, lr],\n",
        "                  validation_data=validation_dataset,\n",
        "#                   steps_per_epoch=200,\n",
        "#                   validation_steps=200,\n",
        "                 )"
      ],
      "metadata": {
        "_uuid": "085ec046-5e59-4b00-848d-2adeb4c82d7c",
        "_cell_guid": "c8a4f6a0-ff1f-4382-b92a-07c40abea608",
        "jupyter": {
          "outputs_hidden": false
        },
        "execution": {
          "iopub.status.busy": "2024-03-18T18:09:15.448095Z",
          "iopub.execute_input": "2024-03-18T18:09:15.448339Z",
          "iopub.status.idle": "2024-03-18T18:14:29.83433Z",
          "shell.execute_reply.started": "2024-03-18T18:09:15.44831Z",
          "shell.execute_reply": "2024-03-18T18:14:29.833513Z"
        },
        "trusted": true,
        "id": "voiNEDqEkCDV",
        "outputId": "c2157e5d-c04a-47e3-9f5e-7eec93e08abc",
        "colab": {
          "base_uri": "https://localhost:8080/"
        }
      },
      "execution_count": null,
      "outputs": [
        {
          "output_type": "stream",
          "name": "stdout",
          "text": [
            "Epoch 1/10\n",
            "3125/3125 [==============================] - 102s 32ms/step - loss: 0.3780 - accuracy: 0.8323 - precision: 0.8324 - recall: 0.8322 - val_loss: 0.2640 - val_accuracy: 0.8924 - val_precision: 0.9128 - val_recall: 0.8674 - lr: 0.0010\n",
            "Epoch 2/10\n",
            "3125/3125 [==============================] - 95s 30ms/step - loss: 0.2758 - accuracy: 0.8878 - precision: 0.8915 - recall: 0.8831 - val_loss: 0.2286 - val_accuracy: 0.9096 - val_precision: 0.8968 - val_recall: 0.9252 - lr: 0.0010\n",
            "Epoch 3/10\n",
            " 625/3125 [=====>........................] - ETA: 1:11 - loss: 0.2534 - accuracy: 0.9002 - precision: 0.9003 - recall: 0.8970"
          ]
        }
      ]
    },
    {
      "cell_type": "code",
      "source": [
        "plt.figure(figsize=(10,5))\n",
        "plt.plot(model.history.history['loss'], color='b', label='Training loss')\n",
        "plt.plot(model.history.history['val_loss'], color='r', label='Validation loss')\n",
        "plt.xlabel(\"epochs\")\n",
        "plt.ylabel(\"loss_value\")\n",
        "plt.title(\"loss\")"
      ],
      "metadata": {
        "_uuid": "f22a9166-9a18-4389-be2e-fe7eb8ad122c",
        "_cell_guid": "dc91cf32-637e-4fe2-b714-72a69fe1a60d",
        "jupyter": {
          "outputs_hidden": false
        },
        "execution": {
          "iopub.status.busy": "2024-03-18T18:14:40.371877Z",
          "iopub.execute_input": "2024-03-18T18:14:40.372647Z",
          "iopub.status.idle": "2024-03-18T18:14:40.687911Z",
          "shell.execute_reply.started": "2024-03-18T18:14:40.372615Z",
          "shell.execute_reply": "2024-03-18T18:14:40.687036Z"
        },
        "trusted": true,
        "id": "KOvtvDa5kCDV"
      },
      "execution_count": null,
      "outputs": []
    },
    {
      "cell_type": "code",
      "source": [
        "plt.figure(figsize=(10,5))\n",
        "plt.plot(model.history.history['accuracy'],color='b',label='Training accuracy')\n",
        "plt.plot(model.history.history['val_accuracy'],color='r',label='Validation accsuracy')\n",
        "plt.xlabel(\"epochs\")\n",
        "plt.ylabel(\"accuracy\")\n",
        "plt.title(\"accuracy graph\")"
      ],
      "metadata": {
        "_uuid": "3bae1477-f057-4185-b522-2ebce9e4e959",
        "_cell_guid": "a5168177-5a0e-4389-b938-f1593368587d",
        "jupyter": {
          "outputs_hidden": false
        },
        "execution": {
          "iopub.status.busy": "2024-03-18T18:14:44.758983Z",
          "iopub.execute_input": "2024-03-18T18:14:44.760001Z",
          "iopub.status.idle": "2024-03-18T18:14:44.984813Z",
          "shell.execute_reply.started": "2024-03-18T18:14:44.759968Z",
          "shell.execute_reply": "2024-03-18T18:14:44.983882Z"
        },
        "trusted": true,
        "id": "M4rZqnRDkCDV"
      },
      "execution_count": null,
      "outputs": []
    },
    {
      "cell_type": "code",
      "source": [
        "plt.figure(figsize=(10,5))\n",
        "plt.plot(model.history.history['precision_2'],color='b',label='Training Precision')\n",
        "plt.plot(model.history.history['val_precision_2'],color='r',label='Validation Precision')\n",
        "plt.xlabel(\"epochs\")\n",
        "plt.ylabel(\"precisiom\")\n",
        "plt.title(\"precision graph\")"
      ],
      "metadata": {
        "execution": {
          "iopub.status.busy": "2024-03-18T18:15:29.98231Z",
          "iopub.execute_input": "2024-03-18T18:15:29.983189Z",
          "iopub.status.idle": "2024-03-18T18:15:30.205421Z",
          "shell.execute_reply.started": "2024-03-18T18:15:29.983157Z",
          "shell.execute_reply": "2024-03-18T18:15:30.204389Z"
        },
        "trusted": true,
        "id": "Ov5chOXykCDV"
      },
      "execution_count": null,
      "outputs": []
    },
    {
      "cell_type": "code",
      "source": [
        "plt.figure(figsize=(10,5))\n",
        "plt.plot(model.history.history['recall_2'],color='b',label='Training Recall')\n",
        "plt.plot(model.history.history['val_recall_2'],color='r',label='Validation Recall')\n",
        "plt.xlabel(\"epochs\")\n",
        "plt.ylabel(\"recall\")\n",
        "plt.title(\"recall graph\")"
      ],
      "metadata": {
        "_uuid": "d1863bbb-6efb-4e3e-b1f7-6a4dda980edd",
        "_cell_guid": "f987db8a-ae14-4007-99ef-35597f28917c",
        "jupyter": {
          "outputs_hidden": false
        },
        "execution": {
          "iopub.status.busy": "2024-03-18T18:15:38.299545Z",
          "iopub.execute_input": "2024-03-18T18:15:38.299921Z",
          "iopub.status.idle": "2024-03-18T18:15:38.59598Z",
          "shell.execute_reply.started": "2024-03-18T18:15:38.299891Z",
          "shell.execute_reply": "2024-03-18T18:15:38.595033Z"
        },
        "trusted": true,
        "id": "Z8n-nFTHkCDV"
      },
      "execution_count": null,
      "outputs": []
    },
    {
      "cell_type": "markdown",
      "source": [
        "### Testing on test data"
      ],
      "metadata": {
        "id": "PkAiUXL-kCDV"
      }
    },
    {
      "cell_type": "code",
      "source": [
        "loss,accuracy,precision, recall = model.evaluate(test_dataset)\n",
        "print(f'Test accuracy :{accuracy} \\n loss:{loss} \\n precision: {precision} \\n recall:{recall}')"
      ],
      "metadata": {
        "execution": {
          "iopub.status.busy": "2024-03-18T18:15:42.287304Z",
          "iopub.execute_input": "2024-03-18T18:15:42.287736Z",
          "iopub.status.idle": "2024-03-18T18:15:43.574206Z",
          "shell.execute_reply.started": "2024-03-18T18:15:42.287703Z",
          "shell.execute_reply": "2024-03-18T18:15:43.573082Z"
        },
        "trusted": true,
        "id": "Hn63m9qWkCDW"
      },
      "execution_count": null,
      "outputs": []
    },
    {
      "cell_type": "markdown",
      "source": [
        "### Loading images with prediciton label"
      ],
      "metadata": {
        "id": "8g_IBmpykCDW"
      }
    },
    {
      "cell_type": "code",
      "source": [
        "# Retrieve a batch of images from the test set\n",
        "image_batch, label_batch = test_dataset.as_numpy_iterator().next()\n",
        "predictions = model.predict_on_batch(image_batch).flatten()\n",
        "\n",
        "# Apply a sigmoid since our model returns logits\n",
        "predictions = tf.nn.sigmoid(predictions)\n",
        "predictions = tf.where(predictions < 0.5, 0, 1)\n",
        "\n",
        "print('Predictions:\\n', predictions.numpy())\n",
        "print('Labels:\\n', label_batch)\n",
        "\n",
        "plt.figure(figsize=(5, 5))\n",
        "for i in range(9):\n",
        "  ax = plt.subplot(3, 3, i + 1)\n",
        "  plt.imshow(image_batch[i].astype(\"uint8\"))\n",
        "  plt.title(class_names[predictions[i]])\n",
        "  plt.axis(\"off\")"
      ],
      "metadata": {
        "execution": {
          "iopub.status.busy": "2024-03-18T18:16:59.2598Z",
          "iopub.execute_input": "2024-03-18T18:16:59.260698Z",
          "iopub.status.idle": "2024-03-18T18:16:59.946224Z",
          "shell.execute_reply.started": "2024-03-18T18:16:59.260663Z",
          "shell.execute_reply": "2024-03-18T18:16:59.945333Z"
        },
        "trusted": true,
        "id": "eogxb99SkCDW"
      },
      "execution_count": null,
      "outputs": []
    }
  ]
}